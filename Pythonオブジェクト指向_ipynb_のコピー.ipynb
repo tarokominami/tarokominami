{
  "nbformat": 4,
  "nbformat_minor": 0,
  "metadata": {
    "colab": {
      "name": "Pythonオブジェクト指向.ipynb のコピー",
      "provenance": [],
      "toc_visible": true,
      "include_colab_link": true
    },
    "kernelspec": {
      "name": "python3",
      "display_name": "Python 3"
    }
  },
  "cells": [
    {
      "cell_type": "markdown",
      "metadata": {
        "id": "view-in-github",
        "colab_type": "text"
      },
      "source": [
        "<a href=\"https://colab.research.google.com/github/tarokominami/tarokominami/blob/main/Python%E3%82%AA%E3%83%96%E3%82%B8%E3%82%A7%E3%82%AF%E3%83%88%E6%8C%87%E5%90%91_ipynb_%E3%81%AE%E3%82%B3%E3%83%94%E3%83%BC.ipynb\" target=\"_parent\"><img src=\"https://colab.research.google.com/assets/colab-badge.svg\" alt=\"Open In Colab\"/></a>"
      ]
    },
    {
      "cell_type": "markdown",
      "metadata": {
        "id": "ZpsFhx9hRJNF"
      },
      "source": [
        "# クラス"
      ]
    },
    {
      "cell_type": "markdown",
      "metadata": {
        "id": "06zYQilRR7xw"
      },
      "source": [
        "オブジェクト指向において、最も基本的な仕組みは**クラス**である\n",
        "\n",
        "クラスの機能として「**カプセル化**」と「**インスタンス（オブジェクト）の生成**」がある"
      ]
    },
    {
      "cell_type": "markdown",
      "metadata": {
        "id": "MpQLnqxz20wz"
      },
      "source": [
        "## カプセル化"
      ]
    },
    {
      "cell_type": "markdown",
      "metadata": {
        "id": "qNui7nGk4Iqt"
      },
      "source": [
        "**変数と関数をまとめた上で、外部に公開する情報を制限する機能のこと**"
      ]
    },
    {
      "cell_type": "markdown",
      "metadata": {
        "id": "4Fyg8UjMHlRV"
      },
      "source": [
        "**「変数と関数をまとめる」とは？**\n",
        "\n",
        "複数の変数と関数をまとめて一つのクラスにすることで、\n",
        "\n",
        "**プログラムを整理整頓する**ことができる"
      ]
    },
    {
      "cell_type": "markdown",
      "metadata": {
        "id": "yGWUax1WFlZo"
      },
      "source": [
        "例：半径を渡すと円周の長さと面積を求める関数"
      ]
    },
    {
      "cell_type": "code",
      "metadata": {
        "id": "uO0I2-dIFoqI"
      },
      "source": [
        "pi = 3.14 #円周率\n",
        "\n",
        "def circle_length(r):\n",
        "  return r * 2 * pi\n",
        "\n",
        "def circle_area(r):\n",
        "  return r * r * pi"
      ],
      "execution_count": 1,
      "outputs": []
    },
    {
      "cell_type": "markdown",
      "metadata": {
        "id": "SiSYhw5kHD13"
      },
      "source": [
        "**piというグローバル変数が使われている**ことに注意\n",
        "\n",
        "クラスを使うと以下のようになる"
      ]
    },
    {
      "cell_type": "code",
      "metadata": {
        "id": "0P8Hgh3-G7oq"
      },
      "source": [
        "class Circle:\n",
        "  pi = 3.14 #円周率\n",
        "\n",
        "  def length(self, r):\n",
        "    return r * 2 * Circle.pi\n",
        "\n",
        "  def area(self, r):\n",
        "    return r * r * Circle.pi"
      ],
      "execution_count": 2,
      "outputs": []
    },
    {
      "cell_type": "markdown",
      "metadata": {
        "id": "iBdQqTGzICzC"
      },
      "source": [
        "クラスを使うと**変数と関数をまとめる**ことができる\n",
        "\n",
        "上の例では、変数piと関数lengthと関数areaを、Circleという一つのクラスにまとめている\n"
      ]
    },
    {
      "cell_type": "markdown",
      "metadata": {
        "id": "ewp9wE_F_tOv"
      },
      "source": [
        "\n",
        "クラス名の最初の文字は慣例的に**大文字**で記述する\n",
        "\n",
        "詳しくは、[PEP 8](https://pep8-ja.readthedocs.io/ja/latest/)（Pythonのコーディング規約）参照"
      ]
    },
    {
      "cell_type": "markdown",
      "metadata": {
        "id": "wDWVusOPIYx4"
      },
      "source": [
        "クラスが持つ変数を**クラス変数**（属性）、クラスが持つ関数を**メソッド**という名前で呼ぶ\n",
        "\n",
        "上の例だとCircleクラスはクラス変数piとlengthメソッド、areaメソッドを持つクラスであると言える\n",
        "\n",
        "メソッドの引数に**self**というものが追加されていることに注目、後ほど説明"
      ]
    },
    {
      "cell_type": "markdown",
      "metadata": {
        "id": "6E7p1J40IYoN"
      },
      "source": [
        "変数と関数をクラスによってまとめると次のようなメリットがある\n",
        "\n",
        "*   変数と関数をまとめて、**意味のある1つの部品**にすることができる\n",
        "*   変数や関数の名前がシンプルになる\n"
      ]
    },
    {
      "cell_type": "markdown",
      "metadata": {
        "id": "o8ymlVRwJXM8"
      },
      "source": [
        "**「外部に公開する情報を制限する」とは？**\n",
        "\n",
        "クラスの中に入れた変数は、外部からのアクセスを制限できる機能を使える"
      ]
    },
    {
      "cell_type": "markdown",
      "metadata": {
        "id": "4ZkLFygbLApx"
      },
      "source": [
        "クラス変数piは、単に変数名を書くだけでは呼び出せないようになっている\n",
        "\n",
        "クラス変数は「**クラス名.クラス変数名**」と書くことで、呼び出すことができる"
      ]
    },
    {
      "cell_type": "code",
      "metadata": {
        "id": "3klTxMynIXnD",
        "colab": {
          "base_uri": "https://localhost:8080/"
        },
        "outputId": "d88f756b-466d-4124-c440-242bc995bb90"
      },
      "source": [
        "class Circle:\n",
        "  pi = 3.14 #円周率\n",
        "\n",
        "  def length(self, r):\n",
        "    return r * 2 * Circle.pi\n",
        "\n",
        "  def area(self, r):\n",
        "    return r * r * Circle.pi\n",
        "\n",
        "#print(pi)\n",
        "print(Circle.pi) #クラス変数の呼び出し"
      ],
      "execution_count": 3,
      "outputs": [
        {
          "output_type": "stream",
          "name": "stdout",
          "text": [
            "3.14\n"
          ]
        }
      ]
    },
    {
      "cell_type": "markdown",
      "metadata": {
        "id": "njb6wMllO-AF"
      },
      "source": [
        "piという変数は、areaとlengthという2つのメソッドでのみ使用される変数なので、\n",
        "\n",
        "この**2つのメソッド以外からはアクセス出来ないようにした方が保守性が高くなる**\n",
        "\n",
        "→　クラス変数をクラスの中（のメソッド）からしか呼び出せないようにするには、\n",
        "\n",
        "　　「**__クラス変数名**」というように書く（クラス変数名の前にアンダーバーを2つ書く）"
      ]
    },
    {
      "cell_type": "code",
      "metadata": {
        "id": "ndehYA1LO9aQ",
        "colab": {
          "base_uri": "https://localhost:8080/"
        },
        "outputId": "e5186c6d-046b-49b8-a7b3-eeb6617ec309"
      },
      "source": [
        "class Circle:\n",
        "  __pi = 3.14 #クラスの中のメソッドからしか呼び出せない\n",
        "\n",
        "  def length(self, r):\n",
        "    return r * 2 * Circle.__pi\n",
        "\n",
        "  def area(self, r):\n",
        "    return r * r * Circle.__pi\n",
        "\n",
        "#print(Circle.__pi) #クラス変数の呼び出し\n",
        "Circle().length(1) #メソッドの呼び出し（後ほど説明）"
      ],
      "execution_count": 4,
      "outputs": [
        {
          "output_type": "execute_result",
          "data": {
            "text/plain": [
              "6.28"
            ]
          },
          "metadata": {},
          "execution_count": 4
        }
      ]
    },
    {
      "cell_type": "markdown",
      "metadata": {
        "id": "a1UYqX80RqjR"
      },
      "source": [
        "クラスの中からしかアクセスできない変数を**プライベート変数**と呼ぶこともある\n",
        "\n",
        "プライベート変数を利用することで、**複数の関数（areaとlength）で利用する必要のある変数（pi）を、**\n",
        "\n",
        "**グローバル変数として保持する必要がなくなった！**\n",
        "\n",
        "→　**グローバル変数問題の解決！**"
      ]
    },
    {
      "cell_type": "markdown",
      "metadata": {
        "id": "rmEu12mx3YRV"
      },
      "source": [
        "## インスタンス（オブジェクト）の生成"
      ]
    },
    {
      "cell_type": "markdown",
      "metadata": {
        "id": "RLBOoVey6NIo"
      },
      "source": [
        "クラスからは**インスタンス（オブジェクト）を作る**ことができる"
      ]
    },
    {
      "cell_type": "markdown",
      "metadata": {
        "id": "golysbEaau4X"
      },
      "source": [
        "**クラス（class）**→　**分類**、種類\n",
        "\n",
        "**インスタンス（instance）**→　**実例**、具体的なもの\n"
      ]
    },
    {
      "cell_type": "markdown",
      "metadata": {
        "id": "YfaCx5hub4Pe"
      },
      "source": [
        "**クラス：インスタンス**\n",
        "\n",
        "人間　：太郎くん、花子さん、次郎くん、…\n",
        "\n",
        "国　　：日本、アメリカ、オランダ、…"
      ]
    },
    {
      "cell_type": "markdown",
      "metadata": {
        "id": "nfJvsUdLnhHq"
      },
      "source": [
        "クラスからインスタンスを作ることができるので、言い換えるならば\n",
        "\n",
        "**人間というクラス（分類）**から**太郎くんや花子さんというインスタンス（実例）**を作ることができる"
      ]
    },
    {
      "cell_type": "markdown",
      "metadata": {
        "id": "oX9vwdCqcN9f"
      },
      "source": [
        "クラスとは**変数とメソッドを意味のある1つの部品としてまとめたもの**\n",
        "\n",
        "人間は、「名前」「年齢」「出身地」という**変数**を持っているし、\n",
        "\n",
        "「話す」「歩く」「寝る」という**メソッド**（処理）を持っていると言える\n",
        "\n",
        "→　人間を**クラス**として考えることができる"
      ]
    },
    {
      "cell_type": "code",
      "metadata": {
        "id": "If_5Cfsgb3kE"
      },
      "source": [
        "class Human:\n",
        "  name = \"\"\n",
        "  age = 0\n",
        "  born = \"\"\n",
        "  \n",
        "  def talk(self):\n",
        "    print(\"私の名前は\" + self.name + \"です\")\n",
        "  \n",
        "  def walk(self):\n",
        "    print(\"歩く\")\n",
        "   \n",
        "  def sleep(self):\n",
        "    print(\"寝る\")"
      ],
      "execution_count": 5,
      "outputs": []
    },
    {
      "cell_type": "markdown",
      "metadata": {
        "id": "EX55KvruohWM"
      },
      "source": [
        "クラス（分類）とインスタンス（実例）の違いは？\n",
        "\n",
        "→　**変数に具体的な値を持つこと**\n",
        "\n",
        "太郎くんなら「name=”太郎”」だし、花子さんは「name=\"花子\"」というような感じ"
      ]
    },
    {
      "cell_type": "markdown",
      "metadata": {
        "id": "UXGHcth-ULDk"
      },
      "source": [
        "クラスから作られる、実例ごとの具体的な値を入れるための入れ物を**インスタンス**と呼び、\n",
        "\n",
        "このようなインスタンス固有の値が入る変数を**インスタンス変数**と呼ぶ"
      ]
    },
    {
      "cell_type": "markdown",
      "metadata": {
        "id": "xycdDO_lpVoq"
      },
      "source": [
        "「**クラス名()**」と記述することでクラスからインスタンスを作ることができる\n",
        "\n",
        "インスタンス変数は「**インスタンス.インスタンス変数名**」、\n",
        "\n",
        "メソッドは「**インスタンス.メソッド名()**」とすることで使うことができる"
      ]
    },
    {
      "cell_type": "code",
      "metadata": {
        "id": "jyuCGIcBpmK6",
        "colab": {
          "base_uri": "https://localhost:8080/"
        },
        "outputId": "7837d33a-5bb8-49f3-a7fe-d9d7df62f469"
      },
      "source": [
        "class Human:\n",
        "  name = \"\"\n",
        "  age = 0\n",
        "  born = \"\"\n",
        "  \n",
        "  def talk(self):\n",
        "    print(\"私の名前は\" + self.name + \"です\")\n",
        "  \n",
        "  def walk(self):\n",
        "    print(\"歩く\")\n",
        "   \n",
        "  def sleep(self):\n",
        "    print(\"寝る\")\n",
        "    \n",
        "taro = Human() #インスタンスの生成\n",
        "taro.name = \"太郎\" #インスタンス変数の定義\n",
        "taro.age = 20\n",
        "taro.born = \"東京\"\n",
        "taro.talk() #メソッドの呼び出し\n",
        "\n",
        "hanako = Human()\n",
        "hanako.name = \"花子\"\n",
        "hanako.age = 30\n",
        "hanako.born = \"大阪\"\n",
        "hanako.talk()\n",
        "\n",
        "jiro = Human()\n",
        "jiro.talk()"
      ],
      "execution_count": 6,
      "outputs": [
        {
          "output_type": "stream",
          "name": "stdout",
          "text": [
            "私の名前は太郎です\n",
            "私の名前は花子です\n",
            "私の名前はです\n"
          ]
        }
      ]
    },
    {
      "cell_type": "markdown",
      "metadata": {
        "id": "iOR1dWJNu_fI"
      },
      "source": [
        "メソッドの中にある**selfという引数には、メソッドを呼び出したインスタンスが入る**\n",
        "\n",
        "なので、「taro.talk()」とメソッドを呼び出すと、selfには「taro」が入っているので、\n",
        "\n",
        "talk()メソッドの中の「self.name」は「taro.name」を意味することになる\n",
        "\n",
        "こういった理由で「私の名前は太郎です」という出力が行われている"
      ]
    },
    {
      "cell_type": "markdown",
      "metadata": {
        "id": "lqcngZ0WV1CW"
      },
      "source": [
        "クラス変数は、**そのクラスから作られたインスタンスからもアクセスできる**\n",
        "\n",
        "なので、「jiro」というインスタンスのインスタンス変数を定義しなくても、\n",
        "\n",
        "「jiro.talk()」とすると「self.name」にはクラス変数の「name = \"\"」が使われて、結果が出力される\n",
        "\n",
        "同名のインスタンス変数が定義されていると、インスタンス変数が優先になる"
      ]
    },
    {
      "cell_type": "markdown",
      "metadata": {
        "id": "Bwig4zEIzT9t"
      },
      "source": [
        "**クラス変数とインスタンス変数の使い分け**\n",
        "\n",
        "クラス変数　　　　→　**インスタンスで共通する値（クラス固有の値）**を持たせる\n",
        "\n",
        "インスタンス変数　→　**インスタンスごとに異なる値（インスタンス固有の値）**を持たせる"
      ]
    },
    {
      "cell_type": "markdown",
      "metadata": {
        "id": "c0fbJzFbZ3Vj"
      },
      "source": [
        "人間をクラスとして表現するときの説明のためにクラス変数を定義しているが、\n",
        "\n",
        "Humanクラスにはインスタンスで共通する変数がないので、クラス変数は特に必要ない"
      ]
    },
    {
      "cell_type": "code",
      "metadata": {
        "id": "cYEkGSLYaTdC",
        "colab": {
          "base_uri": "https://localhost:8080/"
        },
        "outputId": "5efe0165-d8c7-46b5-ef56-204f5b705b14"
      },
      "source": [
        "class Human:\n",
        "  def talk(self):\n",
        "    print(\"私の名前は\" + self.name + \"です\")\n",
        "  \n",
        "  def walk(self):\n",
        "    print(\"歩く\")\n",
        "   \n",
        "  def sleep(self):\n",
        "    print(\"寝る\")\n",
        "    \n",
        "hanako = Human()\n",
        "hanako.name = \"花子\"\n",
        "hanako.age = 30\n",
        "hanako.born = \"大阪\"\n",
        "hanako.talk()"
      ],
      "execution_count": 7,
      "outputs": [
        {
          "output_type": "stream",
          "name": "stdout",
          "text": [
            "私の名前は花子です\n"
          ]
        }
      ]
    },
    {
      "cell_type": "markdown",
      "metadata": {
        "id": "au8hvqGUpl1X"
      },
      "source": [
        "「taro.インスタンス変数名」と何行か書くことによってインスタンス変数を定義したが、\n",
        "\n",
        "インスタンスごとにこの記述を繰り返すのは面倒\n",
        "\n",
        "→　以下のように書けると楽（インスタンス生成時にまとめて定義）"
      ]
    },
    {
      "cell_type": "code",
      "metadata": {
        "id": "lpSTsO4pqwnU"
      },
      "source": [
        "taro = Human(\"太郎\", 20, \"東京\")\n",
        "hanako = Human(\"花子\", 30, \"大阪\")"
      ],
      "execution_count": null,
      "outputs": []
    },
    {
      "cell_type": "markdown",
      "metadata": {
        "id": "wd42FdBorEoa"
      },
      "source": [
        "このような簡単な記述で、インスタンス変数を設定するための機能が**コンストラクタ**である"
      ]
    },
    {
      "cell_type": "markdown",
      "metadata": {
        "id": "NqwOrwjhrK2j"
      },
      "source": [
        "**コンストラクタとは？**\n",
        "\n",
        "インスタンス生成時に自動的に呼び出されるメソッド"
      ]
    },
    {
      "cell_type": "code",
      "metadata": {
        "id": "ohhHviGyr15y",
        "colab": {
          "base_uri": "https://localhost:8080/"
        },
        "outputId": "4344c936-b15a-4bf2-e07f-f3d6b62a34a8"
      },
      "source": [
        "class Human:\n",
        "  def __init__(self, name, age, born): #コンストラクタ\n",
        "    self.name = name\n",
        "    self.age = age\n",
        "    self.born = born\n",
        "    \n",
        "  def talk(self):\n",
        "    print(\"私の名前は\" + self.name + \"です\")\n",
        "  \n",
        "  def walk(self):\n",
        "    print(\"歩く\")\n",
        "   \n",
        "  def sleep(self):\n",
        "    print(\"寝る\")\n",
        "    \n",
        "hanako = Human(\"花子\", 30, \"大阪\") #インスタンス生成とインスタンス変数の定義\n",
        "hanako.talk() #メソッドの呼び出し\n",
        "\n",
        "taro = Human(\"太郎\", 20, \"東京\")\n",
        "taro.talk()"
      ],
      "execution_count": 9,
      "outputs": [
        {
          "output_type": "stream",
          "name": "stdout",
          "text": [
            "私の名前は花子です\n",
            "私の名前は太郎です\n"
          ]
        }
      ]
    },
    {
      "cell_type": "markdown",
      "metadata": {
        "id": "0YUd1Glzr1Xb"
      },
      "source": [
        "「**\\_\\_init__**」というメソッドを書くとこれがコンストラクタになる\n",
        "\n",
        "コンストラクタはインスタンス生成のタイミングで呼び出される\n",
        "\n",
        "→　インスタンス生成時に渡している引数(\"花子\", 30, \"大阪\")は、コンストラクタに渡される引数"
      ]
    },
    {
      "cell_type": "markdown",
      "metadata": {
        "id": "gex2KZB7bmbZ"
      },
      "source": [
        "コンストラクタの中ではインスタンス変数の定義がまとめて行われている\n",
        "\n",
        "第一引数selfには、生成したインスタンス（上の例ではhanako）が入り、\n",
        "\n",
        "self以外の引数にはインスタンス生成時に渡された引数が入るので、以下の意味になる（taroの場合も同様）"
      ]
    },
    {
      "cell_type": "code",
      "metadata": {
        "id": "Pa3BMkz7b5vX"
      },
      "source": [
        "hanako.name = \"花子\"\n",
        "hanako.age = 30\n",
        "hanako.born = \"大阪\""
      ],
      "execution_count": 8,
      "outputs": []
    },
    {
      "cell_type": "markdown",
      "metadata": {
        "id": "x8FLC7IDtQby"
      },
      "source": [
        "コンストラクタの中の左辺と右辺のどちらにも「name」や「age」という記述があるが、\n",
        "\n",
        "**左辺はインスタンス変数、右辺は引数**であることに注意"
      ]
    },
    {
      "cell_type": "markdown",
      "metadata": {
        "id": "3KEpreMtxSI6"
      },
      "source": [
        "コンストラクタのような特別な意味を持つメソッドを**特殊メソッド**という、コンストラクタの他にも、\n",
        "\n",
        "インスタンスが消去されるときに呼び出されるデストラクタ「\\_\\_del__」というものなどがある"
      ]
    },
    {
      "cell_type": "markdown",
      "metadata": {
        "id": "P2UF3xG7nOHp"
      },
      "source": [
        "## まとめ・ポイント"
      ]
    },
    {
      "cell_type": "markdown",
      "metadata": {
        "id": "6_z0dEVZdlkY"
      },
      "source": [
        "クラスの2つの機能「**カプセル化**」と「**インスタンスの生成**」について学んだ\n"
      ]
    },
    {
      "cell_type": "markdown",
      "metadata": {
        "id": "LkEfiyeId1Wf"
      },
      "source": [
        "**カプセル化**\n",
        "\n",
        "変数と関数をまとめた上で、外部に公開する情報を制限する機能のこと\n",
        "\n",
        "カプセル化によって、\n",
        "\n",
        "*   変数と関数を意味のある一つの部品としてまとめる\n",
        "*   クラスの外部からのアクセスを制限する\n",
        "\n",
        "ことが可能になり**グローバル変数問題を解決**することができた"
      ]
    },
    {
      "cell_type": "markdown",
      "metadata": {
        "id": "Xoy4hEwzeXWI"
      },
      "source": [
        "**インスタンスの生成**\n",
        "\n",
        "クラスからはインスタンスを複数作ることができた\n",
        "\n",
        "クラス・インスタンスを利用すると、共通の処理をもつ複数の実体を扱うときに、\n",
        "\n",
        "**クラスの中に共通処理をまとめて記述できる**というメリットがあった"
      ]
    },
    {
      "cell_type": "markdown",
      "metadata": {
        "id": "Eme0APyL6wDT"
      },
      "source": [
        "## 演習問題①"
      ]
    },
    {
      "cell_type": "markdown",
      "metadata": {
        "id": "Fa2aejgO62u2"
      },
      "source": [
        "合計金額を算出するOrderクラスを定義しましょう！\n",
        "\n",
        "Orderクラスは以下のようなクラスであるとします\n",
        "\n",
        "*   インスタンス変数として単価（price）と数量（count）を持つ\n",
        "*   インスタンス変数の定義はコンストラクタで行われている\n",
        "*   クラス変数として消費税（tax）を持つ、消費税の値は1.1（10%）とする\n",
        "*   単価×数量×消費税で合計金額を算出するtotal_priceメソッドを持つ\n"
      ]
    },
    {
      "cell_type": "code",
      "metadata": {
        "id": "bjTuWa4z638K",
        "colab": {
          "base_uri": "https://localhost:8080/"
        },
        "outputId": "db40a088-799a-4dba-ba9f-0e220d775970"
      },
      "source": [
        "#解答はここに記入\n",
        "class Order(object):\n",
        "  tax = 1.1\n",
        "\n",
        "\n",
        "  def __init__(self, price, count):\n",
        "    self.price = price\n",
        "    self.count = count\n",
        "  \n",
        "\n",
        "  def total_price(self):\n",
        "    return self.price * self.count * Order.tax\n",
        "car = Order(10000, 1)\n",
        "car.total_price()\n"
      ],
      "execution_count": 11,
      "outputs": [
        {
          "output_type": "execute_result",
          "data": {
            "text/plain": [
              "11000.0"
            ]
          },
          "metadata": {},
          "execution_count": 11
        }
      ]
    },
    {
      "cell_type": "markdown",
      "metadata": {
        "id": "6R9FsCjn-F8E"
      },
      "source": [
        "## Pythonはすべてがオブジェクト"
      ]
    },
    {
      "cell_type": "markdown",
      "metadata": {
        "id": "8rhQXGaJ0jXc"
      },
      "source": [
        "**Pythonはすべてのデータ型がオブジェクトである**\n",
        "\n",
        "それぞれのデータ型は以下のクラスから作られたオブジェクト\n",
        "\n",
        "文字列　→　class str\n",
        "\n",
        "整数　　→　class int\n",
        "\n",
        "リスト　→　class list"
      ]
    },
    {
      "cell_type": "markdown",
      "metadata": {
        "id": "dXmmwDdy1tX2"
      },
      "source": [
        "文字列型のデータは、strクラスのオブジェクトなので**メソッドを持つ**"
      ]
    },
    {
      "cell_type": "code",
      "metadata": {
        "id": "xe0BDIDt3sOi",
        "colab": {
          "base_uri": "https://localhost:8080/"
        },
        "outputId": "d908376a-3657-44d5-950f-5f7fabf3125e"
      },
      "source": [
        "print(type(\"Hello\"))   #type()関数でどのクラスのオブジェクトか確認できる\n",
        "print(\"Hello\".upper()) #メソッドの呼び出し"
      ],
      "execution_count": 12,
      "outputs": [
        {
          "output_type": "stream",
          "name": "stdout",
          "text": [
            "<class 'str'>\n",
            "HELLO\n"
          ]
        }
      ]
    },
    {
      "cell_type": "markdown",
      "metadata": {
        "id": "wRTIAg4F6O-b"
      },
      "source": [
        "それぞれのデータ型がどんなメソッドを持つのかは公式ドキュメントで確認できる\n",
        "\n",
        "[公式ドキュメント（str型のメソッド）](https://docs.python.org/ja/3/library/stdtypes.html#string-methods)"
      ]
    },
    {
      "cell_type": "markdown",
      "metadata": {
        "id": "Ads62x5o5Wp3"
      },
      "source": [
        "## Pythonにおける値渡しと参照渡し"
      ]
    },
    {
      "cell_type": "markdown",
      "metadata": {
        "id": "7070KC5V-Lg4"
      },
      "source": [
        "**値渡しとは？**\n",
        "\n",
        "関数に実引数の値を**コピーして渡す**方法"
      ]
    },
    {
      "cell_type": "code",
      "metadata": {
        "id": "xFVADBVb-jqo",
        "colab": {
          "base_uri": "https://localhost:8080/"
        },
        "outputId": "27bdad86-f46f-449e-e8a5-58b654b47af8"
      },
      "source": [
        "def hoge(a):\n",
        "  a += 1\n",
        "  print(a)  #小南が追加\n",
        "  \n",
        "b = 10\n",
        "hoge(b)  # 小南が追加\n",
        "print(b)"
      ],
      "execution_count": 17,
      "outputs": [
        {
          "output_type": "stream",
          "name": "stdout",
          "text": [
            "11\n",
            "10\n"
          ]
        }
      ]
    },
    {
      "cell_type": "markdown",
      "metadata": {
        "id": "fivaYmSr_Ezm"
      },
      "source": [
        "関数hogeには変数bそのものではなくコピーした値を渡すので、\n",
        "\n",
        "関数hogeが実行されても変数bの値は変わらない"
      ]
    },
    {
      "cell_type": "markdown",
      "metadata": {
        "id": "SGLiUVAM_kav"
      },
      "source": [
        "**参照渡しとは？**\n",
        "\n",
        "関数に実引数の**メモリ上のアドレスを渡す**方法"
      ]
    },
    {
      "cell_type": "markdown",
      "metadata": {
        "id": "k4irXj_CAXVf"
      },
      "source": [
        "コンピュータからするとオブジェクトは、\n",
        "\n",
        "インスタンス変数を格納するために確保されたメモリ領域に過ぎない\n",
        "\n",
        "**id()関数**を使うとオブジェクトが格納されているメモリアドレスを確認できる"
      ]
    },
    {
      "cell_type": "code",
      "metadata": {
        "id": "fBQJ6f9lAKdB",
        "colab": {
          "base_uri": "https://localhost:8080/"
        },
        "outputId": "abd50b8e-f7b8-4cec-b0bd-c3928640c217"
      },
      "source": [
        "c = 1\n",
        "print(id(c))"
      ],
      "execution_count": 18,
      "outputs": [
        {
          "output_type": "stream",
          "name": "stdout",
          "text": [
            "94436980742656\n"
          ]
        }
      ]
    },
    {
      "cell_type": "code",
      "metadata": {
        "id": "717xIkOWBqeb",
        "colab": {
          "base_uri": "https://localhost:8080/"
        },
        "outputId": "909d9fa6-bf8f-43df-df41-cbe2030a83af"
      },
      "source": [
        "def foo(arr):\n",
        "  arr.append(3)\n",
        "  \n",
        "d = [0 ,1, 2]\n",
        "foo(d)\n",
        "print(d)"
      ],
      "execution_count": 19,
      "outputs": [
        {
          "output_type": "stream",
          "name": "stdout",
          "text": [
            "[0, 1, 2, 3]\n"
          ]
        }
      ]
    },
    {
      "cell_type": "code",
      "metadata": {
        "id": "NvANvI5LPLM_",
        "colab": {
          "base_uri": "https://localhost:8080/"
        },
        "outputId": "811531ba-a1ae-49e8-f344-3f5add7e0445"
      },
      "source": [
        "def foo(arr):\n",
        "  arr.append(3)\n",
        "  print(id(arr))\n",
        "  \n",
        "d = [0 ,1, 2]\n",
        "print(id(d))\n",
        "foo(d)"
      ],
      "execution_count": 20,
      "outputs": [
        {
          "output_type": "stream",
          "name": "stdout",
          "text": [
            "140525822611280\n",
            "140525822611280\n"
          ]
        }
      ]
    },
    {
      "cell_type": "markdown",
      "metadata": {
        "id": "zFoigTTNCTxu"
      },
      "source": [
        "変数dと関数の仮引数arrそれぞれのメモリアドレスを、id()関数で確認してみると、\n",
        "\n",
        "どちらも**同じメモリアドレス**を参照していることがわかる　→　**同じオブジェクト**を表している\n",
        "\n",
        "なので関数fooが実行されると変数dの値が変更されている"
      ]
    },
    {
      "cell_type": "markdown",
      "metadata": {
        "id": "PqbrRG_yC9av"
      },
      "source": [
        "ちなみに先程の値渡しの例では、メモリアドレスが異なることも確認できる"
      ]
    },
    {
      "cell_type": "code",
      "metadata": {
        "id": "r3eTFz39C1lB",
        "colab": {
          "base_uri": "https://localhost:8080/"
        },
        "outputId": "f0a554f3-f946-4e46-a99b-c4ae340f35db"
      },
      "source": [
        "def hoge(a):\n",
        "  a += 1\n",
        "  print(id(a))\n",
        "  \n",
        "b = 10\n",
        "hoge(b)\n",
        "print(b)\n",
        "print(id(b))"
      ],
      "execution_count": 21,
      "outputs": [
        {
          "output_type": "stream",
          "name": "stdout",
          "text": [
            "94436980742976\n",
            "10\n",
            "94436980742944\n"
          ]
        }
      ]
    },
    {
      "cell_type": "markdown",
      "metadata": {
        "id": "4n3RdqQi4CHf"
      },
      "source": [
        "しかし実は、**Pythonはすべて参照渡し**である（値渡しがない）\n",
        "\n",
        "なぜ値渡しをしているかのような振る舞いをしているのか？\n",
        "\n",
        "→　オブジェクトの種類の違いによる（ミュータブルとイミュータブル）"
      ]
    },
    {
      "cell_type": "markdown",
      "metadata": {
        "id": "a7MGQ_RGDY_j"
      },
      "source": [
        "オブジェクトには**変更可能（mutable）な型**と、**変更不可能（immutable）な型がある**\n",
        "\n",
        "**ミュータブルなデータ型**　　→　リスト型（list）、辞書型（dict）、集合型（set）など\n",
        "\n",
        "**イミュータブルなデータ型**　→　int,floatなどの数値型、文字列型（str）、タプル型（tuple）など"
      ]
    },
    {
      "cell_type": "markdown",
      "metadata": {
        "id": "a0wW6GTt50Wb"
      },
      "source": [
        "イミュータブルなデータが更新されると、新たなメモリ領域を確保してもとの値は変更されない"
      ]
    },
    {
      "cell_type": "code",
      "metadata": {
        "id": "fBymZQxC6Ouv",
        "colab": {
          "base_uri": "https://localhost:8080/"
        },
        "outputId": "a05ef2f4-777e-4178-bb40-93a6c3126cbf"
      },
      "source": [
        "def hoge(a):\n",
        "  print(id(a)) #更新前を見ると参照渡しであることが確認できる\n",
        "  a += 1\n",
        "  print(id(a)) #更新をすると新たなメモリアドレスが割り振られる\n",
        "  \n",
        "b = 10\n",
        "print(id(b))\n",
        "hoge(b)"
      ],
      "execution_count": 22,
      "outputs": [
        {
          "output_type": "stream",
          "name": "stdout",
          "text": [
            "94436980742944\n",
            "94436980742944\n",
            "94436980742976\n"
          ]
        }
      ]
    },
    {
      "cell_type": "markdown",
      "metadata": {
        "id": "6rdGd9AB6q8m"
      },
      "source": [
        "スライドの説明で値渡しによって関数の独立性を高めるという話をした\n",
        "\n",
        "ミュータブルな型で値渡し（のような振る舞い）をさせるには、**copyモジュールのdeepcopy()関数**を利用する"
      ]
    },
    {
      "cell_type": "code",
      "metadata": {
        "id": "gEzd446h8LDl",
        "colab": {
          "base_uri": "https://localhost:8080/"
        },
        "outputId": "b3a6c342-418b-4987-cfd1-49ef0992fe8c"
      },
      "source": [
        "import copy #copyモジュールのインポート\n",
        "\n",
        "def foo(arr):\n",
        "  print(id(arr))\n",
        "  arr = copy.deepcopy(arr) #別のメモリアドレスにオブジェクトのコピーを作成\n",
        "  print(id(arr))\n",
        "  arr.append(3)\n",
        "  print(id(arr))\n",
        "  \n",
        "d = [0 ,1, 2]\n",
        "foo(d)\n",
        "print(d)\n",
        "print(id(d))"
      ],
      "execution_count": 23,
      "outputs": [
        {
          "output_type": "stream",
          "name": "stdout",
          "text": [
            "140525822146192\n",
            "140525822145232\n",
            "140525822145232\n",
            "[0, 1, 2]\n",
            "140525822146192\n"
          ]
        }
      ]
    },
    {
      "cell_type": "markdown",
      "metadata": {
        "id": "jcKJ2A4Y87vN"
      },
      "source": [
        "copyモジュールについてより詳しくは[公式ドキュメント](https://docs.python.org/ja/3/library/copy.html)をご参照ください。"
      ]
    },
    {
      "cell_type": "markdown",
      "metadata": {
        "id": "iv9LEXU3RMPJ"
      },
      "source": [
        "# 継承"
      ]
    },
    {
      "cell_type": "markdown",
      "metadata": {
        "id": "fWGniaKs0yb3"
      },
      "source": [
        "**既存のクラスが持つ変数とメソッドを引き継いで（継承して）、新しいクラスを作る仕組み**"
      ]
    },
    {
      "cell_type": "markdown",
      "metadata": {
        "id": "Zbzgp5hg7TAa"
      },
      "source": [
        "継承を実装するには以下のように書く（ClassAクラスを継承したClassBクラスを定義）"
      ]
    },
    {
      "cell_type": "code",
      "metadata": {
        "id": "c8MyB7q07Y6Y",
        "colab": {
          "base_uri": "https://localhost:8080/",
          "height": 188
        },
        "outputId": "36f642d4-4f33-4cfb-f7ea-1a73aa39352f"
      },
      "source": [
        "class ClassB(ClassA):\n",
        "  クラス内部の記述"
      ],
      "execution_count": 1,
      "outputs": [
        {
          "output_type": "error",
          "ename": "NameError",
          "evalue": "ignored",
          "traceback": [
            "\u001b[0;31m---------------------------------------------------------------------------\u001b[0m",
            "\u001b[0;31mNameError\u001b[0m                                 Traceback (most recent call last)",
            "\u001b[0;32m<ipython-input-1-da82ccfeb291>\u001b[0m in \u001b[0;36m<module>\u001b[0;34m()\u001b[0m\n\u001b[0;32m----> 1\u001b[0;31m \u001b[0;32mclass\u001b[0m \u001b[0mClassB\u001b[0m\u001b[0;34m(\u001b[0m\u001b[0mClassA\u001b[0m\u001b[0;34m)\u001b[0m\u001b[0;34m:\u001b[0m\u001b[0;34m\u001b[0m\u001b[0;34m\u001b[0m\u001b[0m\n\u001b[0m\u001b[1;32m      2\u001b[0m   \u001b[0mクラス内部の記述\u001b[0m\u001b[0;34m\u001b[0m\u001b[0;34m\u001b[0m\u001b[0m\n",
            "\u001b[0;31mNameError\u001b[0m: name 'ClassA' is not defined"
          ]
        }
      ]
    },
    {
      "cell_type": "markdown",
      "metadata": {
        "id": "eHnSqhTJ6ANk"
      },
      "source": [
        "例：SuperClassクラスを継承したSubClassクラスを定義する"
      ]
    },
    {
      "cell_type": "code",
      "metadata": {
        "id": "9KWkdXgr1UV6",
        "colab": {
          "base_uri": "https://localhost:8080/"
        },
        "outputId": "4984bd8c-755a-4324-bc9c-4043204bcd45"
      },
      "source": [
        "class SuperClass:\n",
        "  spr = \"スーパー\"\n",
        "  \n",
        "  def super_print(self):\n",
        "    print(\"スーパークラスのメソッドです\")\n",
        "\n",
        "\n",
        "class SubClass(SuperClass): #SuperClassを継承\n",
        "  def sub_print(self):\n",
        "    print(\"サブクラスのメソッドです\")\n",
        "    \n",
        "  def spr_print(self):\n",
        "    print(self.spr)\n",
        "    \n",
        "    \n",
        "obj = SubClass()\n",
        "obj.super_print()\n",
        "obj.sub_print()\n",
        "obj.spr_print()"
      ],
      "execution_count": 2,
      "outputs": [
        {
          "output_type": "stream",
          "name": "stdout",
          "text": [
            "スーパークラスのメソッドです\n",
            "サブクラスのメソッドです\n",
            "スーパー\n"
          ]
        }
      ]
    },
    {
      "cell_type": "markdown",
      "metadata": {
        "id": "rO-VLSBk62bY"
      },
      "source": [
        "上のプログラムを見るとSubClassのオブジェクト（obj）が、\n",
        "\n",
        "SuperClassのメソッド（super_print）とクラス変数（spr）を使っているのがわかる\n",
        "\n",
        "このように継承を用いると、継承元のクラスの変数とメソッドを継承先のクラスで利用できる\n",
        "\n",
        "→　**既存のクラスを修正せずに機能追加が可能になる**　→　**保守性・再利用性の向上**"
      ]
    },
    {
      "cell_type": "markdown",
      "metadata": {
        "id": "84mRjOmP_HHa"
      },
      "source": [
        "継承先のクラスをサブクラス（子クラス）、継承元のクラスをスーパークラス（親クラス）と呼ぶ"
      ]
    },
    {
      "cell_type": "markdown",
      "metadata": {
        "id": "XxAhT74n69Op"
      },
      "source": [
        "また継承は見方を変えると、**クラスの共通部分を別クラスとしてまとめる仕組み**とも言える\n",
        "\n",
        "以下の2つのクラスを見てみると、プログラムの内容に共通する部分が多いことがわかる"
      ]
    },
    {
      "cell_type": "code",
      "metadata": {
        "id": "4_J2QkxF7Ab_"
      },
      "source": [
        "class Teacher:\n",
        "  def __init__(self, name):\n",
        "    self.name = name\n",
        "    \n",
        "  def hello(self):\n",
        "    print(\"私の名前は\" + self.name + \"です\")\n",
        "\n",
        "  def teach(self, student):\n",
        "    print(student + \"に教えた\")\n",
        "    \n",
        "    \n",
        "class Programmer:\n",
        "  def __init__(self, name):\n",
        "    self.name = name\n",
        "    \n",
        "  def hello(self):\n",
        "    print(\"私の名前は\" + self.name + \"です\")\n",
        "  \n",
        "  def programming(self, lang):\n",
        "    print(lang + \"でプログラミング\")"
      ],
      "execution_count": 3,
      "outputs": []
    },
    {
      "cell_type": "markdown",
      "metadata": {
        "id": "0TAryls6yPv1"
      },
      "source": [
        "継承を使うとこのコードの共通部分をまとめることができる"
      ]
    },
    {
      "cell_type": "code",
      "metadata": {
        "id": "o7PIyYEDyWYF",
        "colab": {
          "base_uri": "https://localhost:8080/"
        },
        "outputId": "be9f97b7-87da-4c0a-c537-2f3e4c292baf"
      },
      "source": [
        "class Worker: #共通部分を抽出したWorkerクラスを定義\n",
        "  def __init__(self, name):\n",
        "    self.name = name\n",
        "    \n",
        "  def hello(self):\n",
        "    print(\"私の名前は\" + self.name + \"です\")\n",
        "    \n",
        "\n",
        "class Teacher(Worker): #Workerクラスの継承でシンプルな記述に\n",
        "  def teach(self, student):\n",
        "    print(self.name + \"は、\" + student + \"に教えた\")\n",
        "    \n",
        "class Programmer(Worker):\n",
        "  def programming(self, lang):\n",
        "    print(self.name + \"は、\" + lang + \"でプログラミング\")\n",
        "    \n",
        "teacher = Teacher(\"金八\")\n",
        "programmer = Programmer(\"松本\")\n",
        "teacher.hello()\n",
        "teacher.teach(\"杉田\")\n",
        "programmer.hello()\n",
        "programmer.programming(\"Ruby\")"
      ],
      "execution_count": 4,
      "outputs": [
        {
          "output_type": "stream",
          "name": "stdout",
          "text": [
            "私の名前は金八です\n",
            "金八は、杉田に教えた\n",
            "私の名前は松本です\n",
            "松本は、Rubyでプログラミング\n"
          ]
        }
      ]
    },
    {
      "cell_type": "markdown",
      "metadata": {
        "id": "Ypx07WG-0mO4"
      },
      "source": [
        "TeacherクラスとProgrammerクラスはWorkerクラスを継承している\n",
        "\n",
        "2つのクラスの共通部分をWorkerクラスにまとめた上で、Workerクラスを継承している\n",
        "\n"
      ]
    },
    {
      "cell_type": "markdown",
      "metadata": {
        "id": "DNV_uoHQBP6D"
      },
      "source": [
        "共通部分をまとめると、以下のようなメリットがある\n",
        "\n",
        "*   プログラムの記述量が少なくなり、見通しが良くなる\n",
        "*   他の職業のクラスを定義するのが簡単になる\n",
        "*   共通部分の変更が容易になる\n",
        "\n",
        "共通部分をまとめることで、**プログラムの保守性・再利用性を向上**させている"
      ]
    },
    {
      "cell_type": "markdown",
      "metadata": {
        "id": "aXL4DHAnAcRp"
      },
      "source": [
        "継承は「**is-a関係**」と言われる「Teacher is a Worker.（教師は労働者の一種である）」\n",
        "\n",
        "プログラムの共通部分があっても、**is-a関係が存在しないならば継承でまとめるのは不適切**な場合が多い"
      ]
    },
    {
      "cell_type": "markdown",
      "metadata": {
        "id": "Dw78YdrfC3Nu"
      },
      "source": [
        "## オーバーライド"
      ]
    },
    {
      "cell_type": "markdown",
      "metadata": {
        "id": "c4ww8Th4C6-f"
      },
      "source": [
        "**スーパークラスのメソッドをサブクラスが上書きする機能**"
      ]
    },
    {
      "cell_type": "markdown",
      "metadata": {
        "id": "4FtdkG7NG4Tl"
      },
      "source": [
        "以下のプログラムを見てみると、スーパークラスとサブクラスで同じ名前のメソッドを持っている"
      ]
    },
    {
      "cell_type": "code",
      "metadata": {
        "id": "n-QC8__7DO6t",
        "colab": {
          "base_uri": "https://localhost:8080/"
        },
        "outputId": "292ce867-6b82-4b6c-c7de-7194a5f85fab"
      },
      "source": [
        "class Human:\n",
        "  def hello(self):\n",
        "    print(\"hello\")\n",
        "    \n",
        "class Japanese(Human):\n",
        "  def hello(self): #helloメソッドを上書き\n",
        "    print(\"I'm Japanese\")\n",
        "    \n",
        "japanese = Japanese()\n",
        "japanese.hello()"
      ],
      "execution_count": 5,
      "outputs": [
        {
          "output_type": "stream",
          "name": "stdout",
          "text": [
            "I'm Japanese\n"
          ]
        }
      ]
    },
    {
      "cell_type": "markdown",
      "metadata": {
        "id": "EmUomZUdHHP6"
      },
      "source": [
        "スーパークラスとサブクラスで同じ名前のメソッドがあるとき、**サブクラスのメソッドが優先**された\n",
        "\n",
        "→　スーパークラスのメソッドを、サブクラスのメソッドで**上書き**していると見ることもできる\n",
        "\n",
        "→　これをメソッドの**オーバーライド**と呼ぶ"
      ]
    },
    {
      "cell_type": "markdown",
      "metadata": {
        "id": "k48sLi5FG253"
      },
      "source": [
        "**スーパークラスを表すsuper()関数**を使うと、\n",
        "\n",
        "スーパークラスのメソッドをサブクラスから利用できる"
      ]
    },
    {
      "cell_type": "code",
      "metadata": {
        "id": "6UMlDVVNEe7Z",
        "colab": {
          "base_uri": "https://localhost:8080/"
        },
        "outputId": "dfbba6e0-3d50-4033-d762-ccdf7282a32c"
      },
      "source": [
        "class Human:\n",
        "  def hello(self):\n",
        "    print(\"hello\")\n",
        "    \n",
        "class Japanese(Human):\n",
        "  def hello(self):\n",
        "    super().hello() #スーパークラスのhelloメソッドを呼び出し\n",
        "    print(\"I'm Japanese\")\n",
        "    \n",
        "japanese = Japanese()\n",
        "japanese.hello()"
      ],
      "execution_count": 6,
      "outputs": [
        {
          "output_type": "stream",
          "name": "stdout",
          "text": [
            "hello\n",
            "I'm Japanese\n"
          ]
        }
      ]
    },
    {
      "cell_type": "markdown",
      "metadata": {
        "id": "Jo_xVeiM_y7G"
      },
      "source": [
        "オーバーライドは、**ポリモーフィズムを実装する**上で極めて重要な機能（後ほど説明）"
      ]
    },
    {
      "cell_type": "markdown",
      "metadata": {
        "id": "aX7UzTQaJuhA"
      },
      "source": [
        "## まとめ・ポイント"
      ]
    },
    {
      "cell_type": "markdown",
      "metadata": {
        "id": "LxcEgkMOAxCo"
      },
      "source": [
        "**継承とは**\n",
        "\n",
        "既存クラスの変数とメソッドを受け継いで新たなクラスを定義する機能のこと"
      ]
    },
    {
      "cell_type": "markdown",
      "metadata": {
        "id": "WZ4ypwODA__7"
      },
      "source": [
        "継承を使うメリットとして、以下のようなメリットがあった\n",
        "\n",
        "*   既存のプログラムを利用したプログラミングが可能になる\n",
        "*   共通部分をまとめてシンプルなプログラムを書くことができる\n",
        "\n",
        "このようなメリットによって、保守性と再利用性の高い開発を行うことができる\n"
      ]
    },
    {
      "cell_type": "markdown",
      "metadata": {
        "id": "aO10gM9cBYgE"
      },
      "source": [
        "**オーバーライドとは**\n",
        "\n",
        "スーパークラスのメソッドをサブクラスが上書きすること\n",
        "\n",
        "オーバーライドの活躍は、ポリモーフィズムの章で"
      ]
    },
    {
      "cell_type": "markdown",
      "metadata": {
        "id": "5x1vzq6i701u"
      },
      "source": [
        "## 演習問題②"
      ]
    },
    {
      "cell_type": "markdown",
      "metadata": {
        "id": "Pl45c7t3AvAH"
      },
      "source": [
        "以下の要件を満たすDecoDisplayクラスを定義しましょう！\n",
        "\n",
        "*   Displayクラスを継承している\n",
        "*   唯一のメソッドとして、displayメソッドを持つ（オーバーライドしている）\n",
        "*   引数として渡された文章の先頭と末尾に「～」を追加して表示するメソッド\n",
        "\n",
        "クラスが定義できたら、インスタンスを生成してメソッドを呼び出してみましょう！"
      ]
    },
    {
      "cell_type": "code",
      "metadata": {
        "id": "rLZP-cVqAv3M",
        "colab": {
          "base_uri": "https://localhost:8080/"
        },
        "outputId": "1090091e-b171-4c0d-ac86-da12258da45a"
      },
      "source": [
        "class Display:\n",
        "  def __init__(self):\n",
        "    print(\"文章を出力できるよ\")\n",
        "    \n",
        "  def display(self, sentence):\n",
        "    print(sentence)\n",
        "    \n",
        "#解答はここに記入\n",
        "class DecoDisplay(Display):\n",
        "  def display(self, sentence):\n",
        "    super().display(sentence)\n",
        "    print('~' + sentence + '~')\n",
        "\n",
        "test = DecoDisplay()\n",
        "test.display('taro')"
      ],
      "execution_count": 9,
      "outputs": [
        {
          "output_type": "stream",
          "name": "stdout",
          "text": [
            "文章を出力できるよ\n",
            "taro\n",
            "~taro~\n"
          ]
        }
      ]
    },
    {
      "cell_type": "markdown",
      "metadata": {
        "id": "hB0jcyZS8eTB"
      },
      "source": [
        "## 関数に機能を追加する関数（デコレータ）"
      ]
    },
    {
      "cell_type": "markdown",
      "metadata": {
        "id": "4ksb6UfGqSnI"
      },
      "source": [
        "Pythonはすべてがオブジェクトであるので、\n",
        "\n",
        "**関数の引数として関数を渡すこともできる**"
      ]
    },
    {
      "cell_type": "markdown",
      "metadata": {
        "id": "6HV2iI8_SoQL"
      },
      "source": [
        "例：obj関数とfree関数を引数にとるpy関数"
      ]
    },
    {
      "cell_type": "code",
      "metadata": {
        "id": "7-StaT2srI2t",
        "colab": {
          "base_uri": "https://localhost:8080/"
        },
        "outputId": "ed9d5e2e-6239-4a51-e4d9-ee4060305d48"
      },
      "source": [
        "def obj():\n",
        "  return \"オブジェクト\"\n",
        "\n",
        "def free(word):\n",
        "  return word\n",
        "\n",
        "def py(func): #機能を追加するための関数\n",
        "  def wrapper(*args, **kwargs):\n",
        "    return \"Pythonは\" + func(*args, **kwargs)\n",
        "  return wrapper #関数py()の戻り値は関数\n",
        "\n",
        "pyobj = py(obj) #関数objを引数としてpy関数を呼び出し、戻り値をpyobjに\n",
        "pyfree = py(free)\n",
        "print(pyobj())\n",
        "print(pyfree(\"楽しい\"))"
      ],
      "execution_count": 1,
      "outputs": [
        {
          "output_type": "stream",
          "name": "stdout",
          "text": [
            "Pythonはオブジェクト\n",
            "Pythonは楽しい\n"
          ]
        }
      ]
    },
    {
      "cell_type": "markdown",
      "metadata": {
        "id": "cvDK2IJOTFfs"
      },
      "source": [
        "上のプログラムのポイントは、\n",
        "\n",
        "\n",
        "*   py関数には、関数のオブジェクトが引数として渡されている\n",
        "*   py関数の戻り値は、py関数の中で定義されたwrapper関数\n",
        "*   wrapper関数の中の処理では、引数（func）として受け取った関数を呼び出している\n",
        "*   \\*\\*argsと\\*\\*kwargsはそれぞれ、任意の数の引数・任意の数のキーワード引数という意味\n",
        "*   引数として受け取った関数の戻り値に「Pythonは」という文字を追加している（**機能追加**）\n",
        "\n"
      ]
    },
    {
      "cell_type": "markdown",
      "metadata": {
        "id": "Ql379rNzxn5m"
      },
      "source": [
        "このように関数を引数とする関数を定義することで、\n",
        "\n",
        "**すでにある関数に機能を追加する**ことができる\n",
        "\n",
        "このような関数を**デコレータ**と呼ぶ\n",
        "\n",
        "一般化すると以下のようになる"
      ]
    },
    {
      "cell_type": "code",
      "metadata": {
        "id": "kBs1JeamV0Lw"
      },
      "source": [
        "機能追加された関数オブジェクト = デコレータ(機能追加したい関数オブジェクト)"
      ],
      "execution_count": null,
      "outputs": []
    },
    {
      "cell_type": "markdown",
      "metadata": {
        "id": "V16njS0Ox53W"
      },
      "source": [
        "デコレータは、**「@デコレータ名」と、修飾する（decorate）関数の上に書く**ことでも利用できる"
      ]
    },
    {
      "cell_type": "code",
      "metadata": {
        "id": "UK3aOfvJWa-q"
      },
      "source": [
        "@機能追加の関数（デコレータ）\n",
        "def 機能追加したい関数():\n",
        "  処理"
      ],
      "execution_count": null,
      "outputs": []
    },
    {
      "cell_type": "code",
      "metadata": {
        "id": "xAOEH3XNwv-l",
        "colab": {
          "base_uri": "https://localhost:8080/"
        },
        "outputId": "07ce0e3c-7cc4-4b29-8123-c53316839903"
      },
      "source": [
        "def py(func): #デコレータの定義\n",
        "  def wrapper(*args, **kwargs):\n",
        "    return \"Pythonは\" + func(*args, **kwargs)\n",
        "  return wrapper #関数py()の戻り値は関数\n",
        "\n",
        "@py #デコレータの利用\n",
        "def obj():\n",
        "  return \"オブジェクト\"\n",
        "\n",
        "@py #デコレータの利用\n",
        "def free(word):\n",
        "  return word\n",
        "\n",
        "print(obj())\n",
        "print(free(\"楽しい\"))"
      ],
      "execution_count": 21,
      "outputs": [
        {
          "output_type": "stream",
          "name": "stdout",
          "text": [
            "Pythonはオブジェクト\n",
            "Pythonは楽しい\n"
          ]
        }
      ]
    },
    {
      "cell_type": "markdown",
      "metadata": {
        "id": "OK27njL1xm6P"
      },
      "source": [
        "デコレータは上のように自分で定義できる他にも、\n",
        "\n",
        "Pythonにあらかじめ用意されているものや、モジュールとして提供されているものもある\n",
        "\n",
        "ここでは**クラスメソッド**を定義するために用いるデコレータの**@classmethod**について扱う"
      ]
    },
    {
      "cell_type": "markdown",
      "metadata": {
        "id": "o9oxKuxmy912"
      },
      "source": [
        "**クラスメソッドとは？**\n",
        "\n",
        "クラス内で定義されたメソッドで、**インスタンス化しなくても呼び出すことのできるメソッド**\n",
        "\n",
        "クラスからもインスタンスからも呼び出すこともできる"
      ]
    },
    {
      "cell_type": "code",
      "metadata": {
        "id": "0_MYA6ntxk1r",
        "colab": {
          "base_uri": "https://localhost:8080/"
        },
        "outputId": "c076acbc-987e-4e2c-e34d-b27dd321241f"
      },
      "source": [
        "class Hoge:\n",
        "  @classmethod #クラスメソッドを定義\n",
        "  def foo(cls):  #クラスメソッドの際にはselfを引数にとらず、代わりにclsを引数にとる\n",
        "    print(\"インスタンス化しなくても呼び出せるメソッド\")\n",
        "    \n",
        "Hoge.foo()  # インスタンスせずに呼び出し(小南追記)\n",
        "Hoge().foo()  #インスタンス化してから呼び出し(小南追記)"
      ],
      "execution_count": 23,
      "outputs": [
        {
          "output_type": "stream",
          "name": "stdout",
          "text": [
            "インスタンス化しなくても呼び出せるメソッド\n",
            "インスタンス化しなくても呼び出せるメソッド\n"
          ]
        }
      ]
    },
    {
      "cell_type": "markdown",
      "metadata": {
        "id": "KpIE6j2oevUY"
      },
      "source": [
        "**クラス（分類）固有**の処理は、クラスメソッドとして定義\n",
        "\n",
        "**インスタンス（実例）固有**の処理は、メソッドとして定義"
      ]
    },
    {
      "cell_type": "markdown",
      "metadata": {
        "id": "un9PHJPORNxh"
      },
      "source": [
        "# ポリモーフィズム"
      ]
    },
    {
      "cell_type": "markdown",
      "metadata": {
        "id": "M-D_BtlWEQh8"
      },
      "source": [
        "**呼び出し側のロジック（インターフェース）を一本化すること**"
      ]
    },
    {
      "cell_type": "markdown",
      "metadata": {
        "id": "Dbt69fX-IEWx"
      },
      "source": [
        "以下のプログラムを見ると、\n",
        "\n",
        "Dogクラス、Catクラス、Humanクラスがすべてcry()メソッドを持つ"
      ]
    },
    {
      "cell_type": "code",
      "metadata": {
        "id": "kusBy0ZCE0lL",
        "colab": {
          "base_uri": "https://localhost:8080/",
          "height": 71
        },
        "outputId": "58660e1c-277d-49f8-b3a0-2a126b963952"
      },
      "source": [
        "class Dog:\n",
        "  def cry(self):\n",
        "    print(\"わんわん\")\n",
        "    \n",
        "class Cat:\n",
        "  def cry(self):\n",
        "    print(\"にゃーにゃー\")\n",
        "    \n",
        "class Human:\n",
        "  def cry(self):\n",
        "    print(\"えーんえーん\")\n",
        "    \n",
        "def nake(animal):\n",
        "  animal.cry() #どのクラスのオブジェクトか気にすることなくcry()メソッドを使うことができる\n",
        "  \n",
        "dog = Dog()\n",
        "cat = Cat()\n",
        "human = Human()\n",
        "\n",
        "#どのクラスのオブジェクトか気にすることなくnake()関数を使うことができる\n",
        "nake(dog)\n",
        "nake(cat)\n",
        "nake(human)"
      ],
      "execution_count": null,
      "outputs": [
        {
          "output_type": "stream",
          "text": [
            "わんわん\n",
            "にゃーにゃー\n",
            "えーんえーん\n"
          ],
          "name": "stdout"
        }
      ]
    },
    {
      "cell_type": "markdown",
      "metadata": {
        "id": "MjqOPwlYG8G7"
      },
      "source": [
        "このように異なるクラスに共通の名前のメソッドを定義することで、\n",
        "\n",
        "**どのクラスのオブジェクトかを気にせずcry()メソッドを使用できるようになっている**"
      ]
    },
    {
      "cell_type": "markdown",
      "metadata": {
        "id": "devrtR9YJnzb"
      },
      "source": [
        "**ポリモーフィズムとは？**\n",
        "\n",
        "オブジェクトの種類を意識しなくてもいいように、オブジェクト間で共通のインターフェースをもたせること"
      ]
    },
    {
      "cell_type": "markdown",
      "metadata": {
        "id": "e3SDJLFzL8ps"
      },
      "source": [
        "演算子の「＋」にもポリモーフィズムが利用されている\n",
        "\n",
        "→　数値のオブジェクトなら「足し算」を意味するし、文字列のオブジェクトなら「連結」を意味する\n",
        "\n",
        "→　**オブジェクトに共通のインターフェースをもたせるが、中身の実装が異なるので振る舞いが変わる**\n"
      ]
    },
    {
      "cell_type": "markdown",
      "metadata": {
        "id": "h6_MonW_M043"
      },
      "source": [
        "先程のプログラムのように実装することでポリモーフィズムは実現できるが、\n",
        "\n",
        "どのクラスにもcry()メソッドを定義する強制力がない\n",
        "\n",
        "→　**ポリモーフィズムを使わないで実装を行う余地が残ってしまっている**\n",
        "\n",
        "**ポリモーフィズムによる実装を強制する**方法として、**抽象クラス・抽象メソッド**を利用する方法がある"
      ]
    },
    {
      "cell_type": "markdown",
      "metadata": {
        "id": "GBonkeYy22si"
      },
      "source": [
        "**抽象（基底）クラスとは？**\n",
        "\n",
        "継承されることを前提としたクラス、インスタンスを生成できない\n",
        "\n",
        "**抽象メソッドとは？**\n",
        "\n",
        "実装を持たない、**インターフェースを規定**するためのメソッド、抽象クラスに定義できる\n",
        "\n",
        "抽象メソッドは**サブクラスの中のオーバーライドによって実装されなければいけない**"
      ]
    },
    {
      "cell_type": "markdown",
      "metadata": {
        "id": "SzDDtlgGOuW0"
      },
      "source": [
        "Pythonで抽象クラス・抽象メソッドを利用するには、**ABC (Abstract Base Class)モジュール**を使う\n",
        "\n",
        "抽象クラスを定義するには**ABCクラス**を継承し、\n",
        "\n",
        "抽象メソッドを定義するには**@abstractmethodデコレータ**を使用する"
      ]
    },
    {
      "cell_type": "markdown",
      "metadata": {
        "id": "L0vcsPcNMKc2"
      },
      "source": [
        "以下のプログラムでは、抽象クラスのAnimalを継承しているHumanクラスが、\n",
        "\n",
        "cry()メソッドの実装を行っていないので、Humanクラスのインスタンス生成時にエラーが発生する"
      ]
    },
    {
      "cell_type": "code",
      "metadata": {
        "id": "yWroRzxUH8y2",
        "colab": {
          "base_uri": "https://localhost:8080/"
        },
        "outputId": "d0412291-8138-451d-99e5-20014ddda361"
      },
      "source": [
        "from abc import ABC, abstractmethod\n",
        "\n",
        "class Animal(ABC): #Animalクラスを抽象クラスとして定義。抽象クラスを作成するにはABCクラスを継承しなければならない\n",
        "  @abstractmethod #抽象メソッドにするデコレータ(抽象クラスは抽象methodを持っていた)\n",
        "  def cry(self):\n",
        "    #ここに実装を記述することはできない、抽象メソッドに書けるのはpassのみ\n",
        "    # 抽象methodはsubclassで使用されなければならない\n",
        "    pass\n",
        "\n",
        "class Dog(Animal):\n",
        "  def cry(self):\n",
        "    print(\"わんわん\")\n",
        "    \n",
        "class Cat(Animal):\n",
        "  def cry(self):\n",
        "    print(\"にゃーにゃー\")\n",
        "    \n",
        "class Human(Animal):\n",
        "  def cry(self):\n",
        "    print(\"えーんえーん\")\n",
        "  \n",
        "human = Human()\n",
        "human.cry()"
      ],
      "execution_count": 24,
      "outputs": [
        {
          "output_type": "stream",
          "name": "stdout",
          "text": [
            "えーんえーん\n"
          ]
        }
      ]
    },
    {
      "cell_type": "markdown",
      "metadata": {
        "id": "XPl6jUb3QkUQ"
      },
      "source": [
        "抽象クラスを継承したクラスは、サブクラス内でオーバーライドして抽象メソッドの実装を行う必要がある\n",
        "\n",
        "→　Dog、Cat、Humanクラスに、cry()メソッドの実装が強制されている\n",
        "\n",
        "→　**ポリモーフィズムによる実装を強制できる**"
      ]
    },
    {
      "cell_type": "markdown",
      "metadata": {
        "id": "cmcG_BQ6N1C7"
      },
      "source": [
        "## まとめ・ポイント"
      ]
    },
    {
      "cell_type": "markdown",
      "metadata": {
        "id": "Oauno2n0N3YP"
      },
      "source": [
        "**ポリモーフィズムとは**\n",
        "\n",
        "オブジェクト間で共通のメソッドをもたせることで、インターフェースを統一すること\n"
      ]
    },
    {
      "cell_type": "markdown",
      "metadata": {
        "id": "3Jgazo8fOCnc"
      },
      "source": [
        "ポリモーフィズムの実装を強制する方法として抽象メソッド・抽象クラスがあった\n",
        "\n",
        "抽象メソッドは抽象クラスに定義できるメソッドで、**実装を持たないメソッド**\n",
        "\n",
        "抽象クラスを継承した**サブクラスでのオーバーライドによる具体的な実装を強制する**機能を持つ\n",
        "\n",
        "→　ポリモーフィズムを強制するプログラミングが可能に！\n"
      ]
    },
    {
      "cell_type": "markdown",
      "metadata": {
        "id": "qWmc4LzbQDtc"
      },
      "source": [
        "抽象クラス・抽象メソッドは、PythonではABCモジュールで提供されている\n",
        "\n",
        "**ABCクラス**を継承したクラスは抽象クラスになり、\n",
        "\n",
        "**@abstractmethodデコレータ**をつけたメソッドは抽象メソッドになる"
      ]
    },
    {
      "cell_type": "markdown",
      "metadata": {
        "id": "oyqanVrT8jya"
      },
      "source": [
        "## 演習問題③"
      ]
    },
    {
      "cell_type": "code",
      "metadata": {
        "id": "I3Gpe89oTMBG"
      },
      "source": [
        "class Worker:\n",
        "  def __init__(self, name):\n",
        "    self.name = name\n",
        "    \n",
        "  def hello(self):\n",
        "    print(\"私の名前は\" + self.name + \"です\")\n",
        "    \n",
        "\n",
        "class Teacher(Worker):\n",
        "  def teach(self):\n",
        "    print(self.name + \"は、教えた\")\n",
        "    \n",
        "class Programmer(Worker):\n",
        "  def programming(self):\n",
        "    print(self.name + \"は、プログラミングした\")"
      ],
      "execution_count": null,
      "outputs": []
    },
    {
      "cell_type": "markdown",
      "metadata": {
        "id": "WgnHExMcCW23"
      },
      "source": [
        "継承のセクションで登場した上のプログラムを、ポリモーフィズムを使って改善しましょう！\n",
        "\n",
        "以下の修正を行ってください\n",
        "\n",
        "*   Workerクラスを抽象クラスに変更\n",
        "*   Workerクラスに、新たにdo_workメソッドを追加\n",
        "*   do_workメソッドは、抽象メソッド\n",
        "*   Teacherクラスのteachメソッドと、Programmerクラスのprogrammingメソッドをdo_workメソッドに置き換える\n",
        "*   Workerクラスをスーパークラスにもつクラスのオブジェクトを引数として受け取る、instract関数を定義\n",
        "*   instract関数は渡されたオブジェクトのdo_workメソッドを呼び出す関数\n",
        "\n",
        "instract関数にTeacherクラスとProgrammerクラスのオブジェクトを渡して、実行してみましょう！\n"
      ]
    },
    {
      "cell_type": "code",
      "metadata": {
        "id": "fz9jgkfJCXJd",
        "colab": {
          "base_uri": "https://localhost:8080/"
        },
        "outputId": "d4b8b49e-a628-4f07-b1a1-f3a5d9f376cc"
      },
      "source": [
        "#解答はここに記入\n",
        "from abc import ABC, abstractmethod\n",
        "\n",
        "class Worker(ABC):\n",
        "  def __init__(self, name):\n",
        "    self.name = name\n",
        "    \n",
        "  def hello(self):\n",
        "    print(\"私の名前は\" + self.name + \"です\")\n",
        "\n",
        "  @abstractmethod\n",
        "  def do_work(self):\n",
        "    pass\n",
        "\n",
        "class Teacher(Worker):\n",
        "  def do_work(self):\n",
        "    print(self.name + \"は、教えた\")\n",
        "    \n",
        "class Programmer(Worker):\n",
        "  def do_work(self):\n",
        "    print(self.name + \"は、プログラミングした\")\n",
        "\n",
        "def instruct(worker):  # ここは間違えた\n",
        "  worker.do_work()\n",
        "\n",
        "teacher = Teacher('金八')\n",
        "programmer = Programmer('松本')\n",
        "instruct(teacher)\n",
        "instruct(programmer)"
      ],
      "execution_count": 27,
      "outputs": [
        {
          "output_type": "stream",
          "name": "stdout",
          "text": [
            "金八は、教えた\n",
            "松本は、プログラミングした\n"
          ]
        }
      ]
    },
    {
      "cell_type": "markdown",
      "metadata": {
        "id": "38ta1O_hJbQv"
      },
      "source": [
        "## 特殊メソッド"
      ]
    },
    {
      "cell_type": "markdown",
      "metadata": {
        "id": "DFxCC8DzlQ42"
      },
      "source": [
        "**objectクラスが持つメソッド、ダブルアンダースコアで囲われているのが特徴**\n",
        "\n",
        "**特殊メソッドをオーバーライドすることで、**\n",
        "\n",
        "**自作クラスに対しても演算子や組み込み関数を使えるようにすることができる**"
      ]
    },
    {
      "cell_type": "markdown",
      "metadata": {
        "id": "Mflm7N7NlsOZ"
      },
      "source": [
        "すべてのクラスは**objectクラス**という、Pythonにあらかじめ用意されているクラスを継承している\n"
      ]
    },
    {
      "cell_type": "code",
      "metadata": {
        "id": "Mvs8QgO8lzr2"
      },
      "source": [
        "#すべてのクラスはobjectクラスを継承している\n",
        "class Human(object):\n",
        "  def __init__(self, name, age, born):\n",
        "    self.name = name\n",
        "    self.age = age\n",
        "    self.born = born"
      ],
      "execution_count": null,
      "outputs": []
    },
    {
      "cell_type": "markdown",
      "metadata": {
        "id": "c71NuaMsmCZt"
      },
      "source": [
        "objectクラスは「\\__add__」や「\\__len__」、「\\__init__」などのメソッドを持っており、\n",
        "\n",
        "これらのアンダーバー2つに囲まれたメソッドを**特殊メソッド**という\n",
        "\n",
        "コンストラクタの「\\__init__」は、objectクラスのメソッドをオーバーライドしている\n",
        "\n",
        "\n",
        "```\n",
        "#objectクラスのイメージ\n",
        "class object:\n",
        "  def __init__(self, ...):\n",
        "    処理\n",
        "  def __len__(self, ...):\n",
        "    処理\n",
        "  def __add__(self, ...):\n",
        "    処理\n",
        "```\n",
        "\n"
      ]
    },
    {
      "cell_type": "markdown",
      "metadata": {
        "id": "iSws4g_0m8K0"
      },
      "source": [
        "これらの特殊メソッドは、**組み込み関数や演算子などと対応**している\n",
        "\n",
        "* 「\\__add__」→「+ 演算子」\n",
        "* 「\\__len__」→「len 関数」\n",
        "* 「\\__str__」→「str 関数」\n",
        "\n"
      ]
    },
    {
      "cell_type": "markdown",
      "metadata": {
        "id": "Lzo1-chu2fQ-"
      },
      "source": [
        "それぞれの特殊メソッドは、データ型ごとにオーバーライドされて、\n",
        "\n",
        "データ型に応じた実装がされているので、ポリモーフィズムが実現できる"
      ]
    },
    {
      "cell_type": "code",
      "metadata": {
        "colab": {
          "base_uri": "https://localhost:8080/"
        },
        "id": "WFjTScSnmKdy",
        "outputId": "ae931e1e-a7ef-4aad-c539-53c9d5fc5d85"
      },
      "source": [
        "#「+ 演算子」を用いて、intクラスの「__add__」メソッドを呼び出す\n",
        "print(1 + 1)\n",
        "print((1).__add__(1)) #浮動小数点数と区別するための()"
      ],
      "execution_count": null,
      "outputs": [
        {
          "output_type": "stream",
          "text": [
            "2\n",
            "2\n"
          ],
          "name": "stdout"
        }
      ]
    },
    {
      "cell_type": "code",
      "metadata": {
        "colab": {
          "base_uri": "https://localhost:8080/"
        },
        "id": "p1i7H7YJ4Nov",
        "outputId": "02c3e884-d460-4d5b-b247-54f2c726fc5f"
      },
      "source": [
        "#「+ 演算子」を用いて、strクラスの「__add__」メソッドを呼び出す\n",
        "print(\"田中\" + \"太郎\")\n",
        "print(\"田中\".__add__(\"太郎\"))"
      ],
      "execution_count": null,
      "outputs": [
        {
          "output_type": "stream",
          "text": [
            "田中太郎\n",
            "田中太郎\n"
          ],
          "name": "stdout"
        }
      ]
    },
    {
      "cell_type": "code",
      "metadata": {
        "colab": {
          "base_uri": "https://localhost:8080/"
        },
        "id": "JQK-2wVuoWGz",
        "outputId": "19e2019d-9a26-41d5-c9ce-6ceb5d94bd82"
      },
      "source": [
        "#「len関数」を用いて、listクラスの「__len__」メソッドを呼び出す\n",
        "print(len([1,2,3]))\n",
        "print([1,2,3].__len__())"
      ],
      "execution_count": null,
      "outputs": [
        {
          "output_type": "stream",
          "text": [
            "3\n",
            "3\n"
          ],
          "name": "stdout"
        }
      ]
    },
    {
      "cell_type": "code",
      "metadata": {
        "colab": {
          "base_uri": "https://localhost:8080/"
        },
        "id": "oLJTsMACpWWF",
        "outputId": "e44d5ab7-20cb-41c5-866b-654804fddf5f"
      },
      "source": [
        "#「str関数」を用いて、intクラスの「__str__」メソッドを呼び出す\n",
        "print(str(1))\n",
        "print((1).__str__())"
      ],
      "execution_count": null,
      "outputs": [
        {
          "output_type": "stream",
          "text": [
            "11\n"
          ],
          "name": "stdout"
        }
      ]
    },
    {
      "cell_type": "markdown",
      "metadata": {
        "id": "XaYlmFPmRr8R"
      },
      "source": [
        "特殊メソッドの使いどころを理解するために、\n",
        "\n",
        "以下のようなxy座標を表現するCoordinateクラスについて考える\n",
        "\n",
        "Coordinateクラスは(2, 3)や(4, -1)というような、(x, y)座標を表現するクラス\n",
        "\n",
        "このクラスに以下のような計算をできるようにするためのメソッドを用意する\n",
        "\n",
        "$(2, 3)+(4, -1)=(6,2)$\n",
        "\n",
        "$(1, 2)+(3, 6)=(4,8)$"
      ]
    },
    {
      "cell_type": "code",
      "metadata": {
        "colab": {
          "base_uri": "https://localhost:8080/"
        },
        "id": "PfSYBThwqgeD",
        "outputId": "9b413e9d-ff5a-4562-97d1-12293837601e"
      },
      "source": [
        "#xy座標を表現するCoordinateクラス\n",
        "class Coordinate:\n",
        "  def __init__(self, x, y):\n",
        "    self.x = x\n",
        "    self.y = y\n",
        "\n",
        "  def plus(self, c):\n",
        "    return Coordinate(self.x + c.x, self.y + c.y)\n",
        "\n",
        "vector1 = Coordinate(2, 3)\n",
        "vector2 = Coordinate(4, -1)\n",
        "vector3 = vector1.plus(vector2)\n",
        "# vector3 = vector1 + vector2 \n",
        "print(vector3)"
      ],
      "execution_count": 28,
      "outputs": [
        {
          "output_type": "stream",
          "name": "stdout",
          "text": [
            "<__main__.Coordinate object at 0x7f7e4e37b850>\n"
          ]
        }
      ]
    },
    {
      "cell_type": "markdown",
      "metadata": {
        "id": "3xEtB1EJqBQe"
      },
      "source": [
        "演算子や組み込み関数は、Pythonに備わっているクラス（型）に対しては操作できるが、\n",
        "\n",
        "開発者が自作したクラスには対応していない"
      ]
    },
    {
      "cell_type": "markdown",
      "metadata": {
        "id": "2VgE4vNys4ME"
      },
      "source": [
        "ポリモーフィズムの観点から考えると、新たなインターフェースを用意するよりも、\n",
        "\n",
        "「+ 演算子」のような、**使い慣れた既存のインターフェースを使って扱えた方が便利**\n",
        "\n",
        "なので、**Coordinateクラスに対しても「+ 演算子」を使えるようにする**ために、\n",
        "\n",
        "objectクラスの\\__add__メソッドを以下のようにオーバーライドする"
      ]
    },
    {
      "cell_type": "code",
      "metadata": {
        "colab": {
          "base_uri": "https://localhost:8080/"
        },
        "id": "GT_-a3YisUY4",
        "outputId": "5a1e82aa-5b29-44c2-820b-5a90529eade3"
      },
      "source": [
        "class Coordinate:\n",
        "  def __init__(self, x, y):\n",
        "    self.x = x\n",
        "    self.y = y\n",
        "\n",
        "  #特殊メソッドをオーバーライド\n",
        "  def __add__(self, c): \n",
        "    return Coordinate(self.x + c.x, self.y + c.y)\n",
        "\n",
        "\n",
        "vector1 = Coordinate(2, 3)\n",
        "vector2 = Coordinate(4, -1)\n",
        "vector3 = vector1 + vector2 #vector1.__add__(vector2)と同じ\n",
        "print(vector3)"
      ],
      "execution_count": null,
      "outputs": [
        {
          "output_type": "stream",
          "text": [
            "<__main__.Coordinate object at 0x7f4f6abf0b90>\n"
          ],
          "name": "stdout"
        }
      ]
    },
    {
      "cell_type": "markdown",
      "metadata": {
        "id": "iZaax9kMt2Ei"
      },
      "source": [
        "さらにvector1をprint関数で出力したら、(2, 3)と表示されるようにするには、\n",
        "\n",
        "print関数を呼び出すと暗黙的にstr関数が呼び出されるので、\n",
        "\n",
        "以下のように\\__str__メソッドをオーバーライドすればよい\n"
      ]
    },
    {
      "cell_type": "code",
      "metadata": {
        "colab": {
          "base_uri": "https://localhost:8080/"
        },
        "id": "HJo_gid4uE17",
        "outputId": "7dd99520-3237-45dd-8599-b22cf50e5ef1"
      },
      "source": [
        "class Coordinate:\n",
        "  def __init__(self, x, y):\n",
        "    self.x = x\n",
        "    self.y = y\n",
        "\n",
        "  def __add__(self, c):\n",
        "    return Coordinate(self.x + c.x, self.y + c.y)\n",
        "\n",
        "  def __str__(self):\n",
        "    return f\"({self.x}, {self.y})\" #f文字列を使用\n",
        "\n",
        "\n",
        "vector1 = Coordinate(2, 3)\n",
        "vector2 = Coordinate(4, -1)\n",
        "vector3 = vector1 + vector2\n",
        "print(vector1)\n",
        "print(vector2)\n",
        "print(vector3)"
      ],
      "execution_count": null,
      "outputs": [
        {
          "output_type": "stream",
          "text": [
            "(2, 3)\n",
            "(4, -1)\n",
            "(6, 2)\n"
          ],
          "name": "stdout"
        }
      ]
    },
    {
      "cell_type": "markdown",
      "metadata": {
        "id": "6I5DKtdKlMTj"
      },
      "source": [
        "このように、特殊メソッドをオーバーライドして処理を変更することで、\n",
        "\n",
        "自作したクラスでも演算子や組み込み関数を使えるようになるので、\n",
        "\n",
        "ポリモーフィズムが実現できる\n"
      ]
    },
    {
      "cell_type": "markdown",
      "metadata": {
        "id": "hDcPypV9v9Or"
      },
      "source": [
        "その他の特殊メソッドについては、[公式ドキュメント](https://docs.python.org/ja/3/reference/datamodel.html#special-method-names)を参照してください"
      ]
    },
    {
      "cell_type": "markdown",
      "metadata": {
        "id": "jF-Za4hmWTyx"
      },
      "source": [
        "**f文字列**を使えば、数値や式を簡単に文字列中に組み込める\n",
        "\n"
      ]
    },
    {
      "cell_type": "code",
      "metadata": {
        "id": "SSq8wBMhW1in",
        "colab": {
          "base_uri": "https://localhost:8080/"
        },
        "outputId": "e9e7dbc0-bd58-4d02-9bee-726714cb4802"
      },
      "source": [
        "a = 1\n",
        "b = 2\n",
        "print(f\"{a}+{b}は{a+b}です\")"
      ],
      "execution_count": null,
      "outputs": [
        {
          "output_type": "stream",
          "text": [
            "1+2は3です\n"
          ],
          "name": "stdout"
        }
      ]
    },
    {
      "cell_type": "markdown",
      "metadata": {
        "id": "nHny7NUyRVd1"
      },
      "source": [
        "# OOPがもたらした再利用技術"
      ]
    },
    {
      "cell_type": "markdown",
      "metadata": {
        "id": "kfDcR113YuFh"
      },
      "source": [
        "OOPによって「**プログラムの再利用**」と「**アイデアの再利用**」が可能になった\n",
        "\n",
        "プログラムの再利用　→　モジュール、フレームワーク\n",
        "\n",
        "アイデアの再利用　　→　設計原則とデザインパターン"
      ]
    },
    {
      "cell_type": "markdown",
      "metadata": {
        "id": "2O5wycliRk80"
      },
      "source": [
        "## モジュール"
      ]
    },
    {
      "cell_type": "markdown",
      "metadata": {
        "id": "536cn01RZl0z"
      },
      "source": [
        "**クラスや関数などを、外部から取り込んで再利用できるようにしたもの**"
      ]
    },
    {
      "cell_type": "markdown",
      "metadata": {
        "id": "4bZpVRggaZb6"
      },
      "source": [
        "モジュールは**特定の強みを持つ再利用可能部品**とも言える\n",
        "\n",
        "openpyxlモジュールであれば、Excel形式のファイルを扱うのに便利なクラスや関数がまとめられている"
      ]
    },
    {
      "cell_type": "markdown",
      "metadata": {
        "id": "X-KlYNqvQ1dH"
      },
      "source": [
        "例：Excel形式のファイルをPythonで扱うことができるopenpyxlモジュール"
      ]
    },
    {
      "cell_type": "code",
      "metadata": {
        "id": "IXavYHcSJJcz"
      },
      "source": [
        "import openpyxl\n",
        "wb = openpyxl.Workbook() #オブジェクトの生成\n",
        "wb.create_sheet()        #メソッドの呼び出し\n",
        "wb.active                #属性の呼び出し"
      ],
      "execution_count": null,
      "outputs": []
    },
    {
      "cell_type": "markdown",
      "metadata": {
        "id": "5eP4FtP4RSxf"
      },
      "source": [
        "上記の記述では、openpyxl.pyに書かれたクラスを利用している"
      ]
    },
    {
      "cell_type": "code",
      "metadata": {
        "id": "mQosr-gGLABC"
      },
      "source": [
        "#openpyxl.py\n",
        "\n",
        "class Workbook:\n",
        "  def __init__(...):\n",
        "    self.active = ...\n",
        "  def create_sheet(...):\n",
        "    ワークシートを追加するようなロジック\n",
        "  def ..."
      ],
      "execution_count": null,
      "outputs": []
    },
    {
      "cell_type": "markdown",
      "metadata": {
        "id": "B596P2UGL8aS"
      },
      "source": [
        "openpyxl.pyにどのような内容のプログラムが書かれているか知らなくても、\n",
        "\n",
        "*   openpyxl.pyの中に定義されているWorkbookクラスからワークブックを表すオブジェクトを作る\n",
        "*   そのオブジェクトはアクティブシートを返すactive属性や、新しいシートを作るcreate_sheetメソッドなどを持つ\n",
        "\n",
        "といった情報**（インターフェース）さえ知っていれば使うことができる**\n",
        "\n",
        "→　モジュールはプログラムの再利用性の象徴的な存在"
      ]
    },
    {
      "cell_type": "markdown",
      "metadata": {
        "id": "Qwzu0lC7RnwE"
      },
      "source": [
        "## フレームワーク"
      ]
    },
    {
      "cell_type": "markdown",
      "metadata": {
        "id": "5DKTFK90bEuc"
      },
      "source": [
        "**よくある処理の流れをひな形として用意しておくことで、**\n",
        "\n",
        "**開発者はプロジェクト固有の内容を埋めるだけで、開発が可能になるもの**"
      ]
    },
    {
      "cell_type": "markdown",
      "metadata": {
        "id": "y7q3FcqEb7PF"
      },
      "source": [
        "Webアプリケーションフレームワーク　→　Djangoなど\n",
        "\n",
        "Webスクレイピングフレームワーク　　→　Scrapyなど"
      ]
    },
    {
      "cell_type": "markdown",
      "metadata": {
        "id": "_leQAxZFcTJG"
      },
      "source": [
        "共通の処理の流れを抽象クラスが持つメソッドで実装（**インターフェースに対して実装**）しておいて、\n",
        "\n",
        "プロジェクト固有の内容は、オーバーライドによって開発者が実装する（ひな形を埋める）"
      ]
    },
    {
      "cell_type": "code",
      "metadata": {
        "id": "bzYGt-vSsSzH",
        "colab": {
          "base_uri": "https://localhost:8080/",
          "height": 135
        },
        "outputId": "3e60ca11-ec60-4544-d248-429011479900"
      },
      "source": [
        "#フレームワークに備わっているクラス\n",
        "class Cooking(ABC):\n",
        "  #料理の共通の処理（買う→切る→加熱する）\n",
        "  def cook(self):\n",
        "    self.buy()\n",
        "    self.cut()\n",
        "    self.heat()\n",
        "\n",
        "  @abstractmethod\n",
        "  def buy(self):\n",
        "    pass\n",
        "\n",
        "  @abstractmethod\n",
        "  def cut(self):\n",
        "    pass\n",
        "  \n",
        "  @abstractmethod\n",
        "  def heat(self):\n",
        "    pass\n",
        "\n",
        "\n",
        "#開発者が実装するクラス\n",
        "class MyCooking(Cooking):\n",
        "  def buy(self):\n",
        "    #プロジェクト固有の処理\n",
        "  \n",
        "  def cut(self):\n",
        "    #プロジェクト固有の処理\n",
        "\n",
        "  def heat(self):\n",
        "    #プロジェクト固有の処理\n",
        "\n",
        "\n",
        "cooking_obj = MyCooking()\n",
        "cooking_obj.cook()"
      ],
      "execution_count": 29,
      "outputs": [
        {
          "output_type": "error",
          "ename": "IndentationError",
          "evalue": "ignored",
          "traceback": [
            "\u001b[0;36m  File \u001b[0;32m\"<ipython-input-29-7cf1e7d73e1c>\"\u001b[0;36m, line \u001b[0;32m27\u001b[0m\n\u001b[0;31m    def cut(self):\u001b[0m\n\u001b[0m      ^\u001b[0m\n\u001b[0;31mIndentationError\u001b[0m\u001b[0;31m:\u001b[0m expected an indented block\n"
          ]
        }
      ]
    },
    {
      "cell_type": "markdown",
      "metadata": {
        "id": "_geMXM1HRp-r"
      },
      "source": [
        "## 設計原則とデザインパターン"
      ]
    },
    {
      "cell_type": "markdown",
      "metadata": {
        "id": "4O965ohtlWNF"
      },
      "source": [
        "**オブジェクト指向設計原則とは？**\n",
        "\n",
        "オブジェクト指向を使って保守性と再利用性の高い開発を行うための設計原則\n",
        "\n",
        "**SOLIDの原則**\n",
        "\n",
        "*   単一責任の原則（**S**ingle Responsibility Principle）\n",
        "*   オープン・クローズドの原則（**O**pen-Closed Principle）\n",
        "*   リスコフの置換原則（**L**iskov Substitution Principle）\n",
        "*   インタフェース分離の原則（**I**nterface Segregation Principle）\n",
        "*   依存性逆転の原則（**D**ependency InversionPrinciple）\n",
        "\n"
      ]
    },
    {
      "cell_type": "markdown",
      "metadata": {
        "id": "lcZ8MxmWmx9H"
      },
      "source": [
        "**デザインパターンとは？**\n",
        "\n",
        "オブジェクト指向の設計原則を、具体的な23個の実装パターンとしてカタログ化したもの"
      ]
    },
    {
      "cell_type": "markdown",
      "metadata": {
        "id": "7cmnzKwMnNB_"
      },
      "source": [
        "オブジェクト指向のアイデアを開発に最大限活かすためには**必須の知識**\n",
        "\n",
        "この講座でオブジェクト指向の概要を理解することができた後に学習すべき内容"
      ]
    },
    {
      "cell_type": "markdown",
      "metadata": {
        "id": "R2aLXuqw-6MX"
      },
      "source": [
        "# OOPを最大限活用するために"
      ]
    },
    {
      "cell_type": "markdown",
      "metadata": {
        "id": "yILk7DLR-cCa"
      },
      "source": [
        "## OOPはあくまでも手段である"
      ]
    },
    {
      "cell_type": "markdown",
      "metadata": {
        "id": "nVL4YthddpLe"
      },
      "source": [
        "OOPはあくまでも生産性の高い開発を行うための手段に過ぎない\n",
        "\n",
        "開発に無理やりOOPのアイデアを取り込もうとして、生産性が落ちては本末転倒\n"
      ]
    },
    {
      "cell_type": "markdown",
      "metadata": {
        "id": "NC-HuifYeWKn"
      },
      "source": [
        "## 設計原則とデザインパターンを学ぼう"
      ]
    },
    {
      "cell_type": "markdown",
      "metadata": {
        "id": "TcxtQ8iGelfT"
      },
      "source": [
        "概念を学んだだけではOOPを理解した「つもり」になってしまう\n",
        "\n",
        "OOPを実際の開発に使うためには、設計原則やデザインパターンの学習など、\n",
        "\n",
        "より踏み込んだ学習が不可欠"
      ]
    },
    {
      "cell_type": "markdown",
      "metadata": {
        "id": "_Q4gQdrn-05m"
      },
      "source": [
        "## Python以外の言語も学ぼう"
      ]
    },
    {
      "cell_type": "markdown",
      "metadata": {
        "id": "jnM7iQ-6I9EN"
      },
      "source": [
        "オブジェクト指向の良書はJavaで書かれたものが多い\n",
        "\n",
        "Javaを読めるようになっておくと、アクセスできるOOPの情報が増えるのでおすすめ\n",
        "\n",
        "他の言語を学ぶことでPythonの特徴が浮き彫りになる"
      ]
    },
    {
      "cell_type": "markdown",
      "metadata": {
        "id": "b1p40iSM_Zu6"
      },
      "source": [
        "## 参考文献・おすすめ書籍"
      ]
    },
    {
      "cell_type": "markdown",
      "metadata": {
        "id": "to4QdmblIlgk"
      },
      "source": [
        "[平澤 章「オブジェクト指向でなぜつくるのか 第2版」日経BP社 2011年]\n",
        "\n",
        "[アラン・シャロウェイほか 「オブジェクト指向のこころ」 丸善出版 2014年]\n",
        "\n",
        "[谷本 心 ほか「Java本格入門 ~モダンスタイルによる基礎からオブジェクト指向・実用ライブラリまで」技術評論社 2017年]\n",
        "\n",
        "[コーリー・アルソフ「独学プログラマー Python言語の基本から仕事のやり方まで」清水川 貴之 監訳ほか 日経BP社 2018年]\n",
        "\n",
        "[ロバート・C・マーチン 「アジャイルソフトウェア開発の奥義 第2版 オブジェクト指向開発の神髄と匠の技」SBクリエイティブ 2008年]\n",
        "\n",
        "[Brett Slatkin 「Effective Python 第2版 ―Pythonプログラムを改良する90項目」オライリージャパン 2020年]\n"
      ]
    },
    {
      "cell_type": "markdown",
      "metadata": {
        "id": "WWFQsmC5_jIC"
      },
      "source": [
        "# 演習問題の解答（復習にご活用ください^^）"
      ]
    },
    {
      "cell_type": "markdown",
      "metadata": {
        "id": "29BOJrTiKaAN"
      },
      "source": [
        "## 演習問題①"
      ]
    },
    {
      "cell_type": "markdown",
      "metadata": {
        "id": "zlz3wAVWKkwq"
      },
      "source": [
        "合計金額を算出するOrderクラスを定義しましょう！\n",
        "\n",
        "Orderクラスは以下のようなクラスであるとします\n",
        "\n",
        "*   インスタンス変数として単価（price）と数量（count）を持つ\n",
        "*   インスタンス変数の定義はコンストラクタで行われている\n",
        "*   クラス変数として消費税（tax）を持つ、消費税の値は1.1（10%）とする\n",
        "*   単価×数量×消費税で合計金額を算出するtotal_priceメソッドを持つ\n"
      ]
    },
    {
      "cell_type": "code",
      "metadata": {
        "id": "LkPx_FZG2Ym_",
        "colab": {
          "base_uri": "https://localhost:8080/",
          "height": 53
        },
        "outputId": "39f45144-5c9c-43ae-c95b-b730b889d387"
      },
      "source": [
        "class Order:\n",
        "  tax = 1.1\n",
        "  \n",
        "  def __init__(self, price, count):\n",
        "    self.price = price\n",
        "    self.count = count\n",
        "    \n",
        "  def total_price(self):\n",
        "    total = self.price * self.count * Order.tax\n",
        "    total = int(total)\n",
        "    print(\"合計金額は\" + str(total) + \"円です\")\n",
        "    \n",
        "order1 = Order(100, 10)\n",
        "order1.total_price()\n",
        "order2 = Order(128, 8)\n",
        "order2.total_price()"
      ],
      "execution_count": null,
      "outputs": [
        {
          "output_type": "stream",
          "text": [
            "合計金額は1100円です\n",
            "合計金額は1126円です\n"
          ],
          "name": "stdout"
        }
      ]
    },
    {
      "cell_type": "markdown",
      "metadata": {
        "id": "UmovDAXNKc3W"
      },
      "source": [
        "## 演習問題②"
      ]
    },
    {
      "cell_type": "markdown",
      "metadata": {
        "id": "F4UxHiVwKlLk"
      },
      "source": [
        "以下の要件を満たすDecoDisplayクラスを定義しましょう！\n",
        "\n",
        "*   Displayクラスを継承している\n",
        "*   唯一のメソッドとして、displayメソッドを持つ（オーバーライドしている）\n",
        "*   引数として渡された文章の先頭と末尾に「～」を追加して表示するメソッド\n",
        "\n",
        "クラスが定義できたら、インスタンスを生成してメソッドを呼び出してみましょう！"
      ]
    },
    {
      "cell_type": "code",
      "metadata": {
        "id": "kUq9LtWdKnhd",
        "colab": {
          "base_uri": "https://localhost:8080/",
          "height": 53
        },
        "outputId": "35834c80-6a5e-46f0-fee7-9e1664581389"
      },
      "source": [
        "class Display:\n",
        "  def __init__(self):\n",
        "    print(\"文章を出力できるよ\")\n",
        "    \n",
        "  def display(self, sentence):\n",
        "    print(sentence)\n",
        "    \n",
        "class DecoDisplay(Display):\n",
        "  def display(self, sentence):\n",
        "    print(\"～\" + sentence + \"～\")\n",
        "    \n",
        "deco = DecoDisplay()\n",
        "deco.display(\"キャビアを添えて\")"
      ],
      "execution_count": null,
      "outputs": [
        {
          "output_type": "stream",
          "text": [
            "文章を出力できるよ\n",
            "～キャビアを添えて～\n"
          ],
          "name": "stdout"
        }
      ]
    },
    {
      "cell_type": "markdown",
      "metadata": {
        "id": "tvKeImH-Kemk"
      },
      "source": [
        "## 演習問題③"
      ]
    },
    {
      "cell_type": "markdown",
      "metadata": {
        "id": "_nP7qZjJKmCX"
      },
      "source": [
        "継承のセクションで登場した上のプログラムを、ポリモーフィズムを使って改善しましょう！\n",
        "\n",
        "以下の修正を行ってください\n",
        "\n",
        "*   Workerクラスを抽象クラスに変更\n",
        "*   Workerクラスに、新たにdo_workメソッドを追加\n",
        "*   do_workメソッドは、抽象メソッド\n",
        "*   Teacherクラスのteachメソッドと、Programmerクラスのprogrammingメソッドをdo_workメソッドに置き換える\n",
        "*   Workerクラスをスーパークラスにもつクラスのオブジェクトを引数として受け取る、instract関数を定義\n",
        "*   instract関数は渡されたオブジェクトのdo_workメソッドを呼び出す関数\n",
        "\n",
        "instract関数にTeacherクラスとProgrammerクラスのオブジェクトを渡して、実行してみましょう！\n"
      ]
    },
    {
      "cell_type": "code",
      "metadata": {
        "id": "Ij3TTa-nKg5S"
      },
      "source": [
        "from abc import ABC, abstractmethod\n",
        "\n",
        "class Worker(ABC):\n",
        "  def __init__(self, name):\n",
        "    self.name = name\n",
        "    \n",
        "  def hello(self):\n",
        "    print(\"私の名前は\" + self.name + \"です\")\n",
        "    \n",
        "  @abstractmethod\n",
        "  def do_work(self):\n",
        "    pass\n",
        "\n",
        "  \n",
        "class Teacher(Worker): #Workerクラスの継承でシンプルな記述に\n",
        "  def do_work(self):\n",
        "    print(self.name + \"は、教えた\")\n",
        "    \n",
        "class Programmer(Worker):\n",
        "  def do_work(self):\n",
        "    print(self.name + \"は、プログラミングした\")\n",
        "    \n",
        "    \n",
        "def instract(worker):\n",
        "  worker.do_work()\n",
        "  \n",
        "    \n",
        "teacher = Teacher(\"金八\")\n",
        "programmer = Programmer(\"松本\")\n",
        "instract(teacher)\n",
        "instract(programmer)"
      ],
      "execution_count": null,
      "outputs": []
    }
  ]
}